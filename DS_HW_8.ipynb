{
  "nbformat": 4,
  "nbformat_minor": 0,
  "metadata": {
    "colab": {
      "provenance": [],
      "authorship_tag": "ABX9TyNUszZsFceDnmx4Oa+n+Gam",
      "include_colab_link": true
    },
    "kernelspec": {
      "name": "python3",
      "display_name": "Python 3"
    },
    "language_info": {
      "name": "python"
    }
  },
  "cells": [
    {
      "cell_type": "markdown",
      "metadata": {
        "id": "view-in-github",
        "colab_type": "text"
      },
      "source": [
        "<a href=\"https://colab.research.google.com/github/Nniikkoollaass/data-science-modul-8-HW/blob/main/DS_HW_8.ipynb\" target=\"_parent\"><img src=\"https://colab.research.google.com/assets/colab-badge.svg\" alt=\"Open In Colab\"/></a>"
      ]
    },
    {
      "cell_type": "code",
      "execution_count": 31,
      "metadata": {
        "id": "dKXe-QqQEiml"
      },
      "outputs": [],
      "source": [
        "import os\n",
        "import pandas as pd\n",
        "import numpy as np\n",
        "from sklearn.model_selection import train_test_split\n",
        "from sklearn.preprocessing import StandardScaler\n",
        "from sklearn.svm import SVC\n",
        "from sklearn.ensemble import RandomForestClassifier\n",
        "from sklearn.metrics import classification_report"
      ]
    },
    {
      "cell_type": "code",
      "source": [
        "# для читання даних з CSV файлів\n",
        "directories = {\n",
        "    \"walking\": \"data/walking\",\n",
        "    \"running\": \"data/running\",\n",
        "    \"stairs\": \"data/stairs\",\n",
        "    \"idle\": \"data/idle\"\n",
        "}\n",
        "data_list = []\n",
        "for activity, folder_path in directories.items():\n",
        "    file_names = os.listdir(folder_path)\n",
        "    for file_name in file_names:\n",
        "        file_path = os.path.join(folder_path, file_name)\n",
        "        data = pd.read_csv(file_path)\n",
        "        data['activity'] = activity\n",
        "        data_list.append(data)\n",
        "all_data = pd.concat(data_list, ignore_index=True)"
      ],
      "metadata": {
        "id": "-4kVPVh0EvnI"
      },
      "execution_count": 32,
      "outputs": []
    },
    {
      "cell_type": "code",
      "source": [
        "# Функція для обчислення часових ознак\n",
        "def calculate_features(data_to_analyse):\n",
        "    features = {\n",
        "        'mean_X': np.mean(data_to_analyse['accelerometer_X']),\n",
        "        'mean_Y': np.mean(data_to_analyse['accelerometer_Y']),\n",
        "        'mean_Z': np.mean(data_to_analyse['accelerometer_Z']),\n",
        "        'std_X': np.std(data_to_analyse['accelerometer_X']),\n",
        "        'std_Y': np.std(data_to_analyse['accelerometer_Y']),\n",
        "        'std_Z': np.std(data_to_analyse['accelerometer_Z']),\n",
        "        'max_X': np.max(data_to_analyse['accelerometer_X']),\n",
        "        'max_Y': np.max(data_to_analyse['accelerometer_Y']),\n",
        "        'max_Z': np.max(data_to_analyse['accelerometer_Z']),\n",
        "        'min_X': np.min(data_to_analyse['accelerometer_X']),\n",
        "        'min_Y': np.min(data_to_analyse['accelerometer_Y']),\n",
        "        'min_Z': np.min(data_to_analyse['accelerometer_Z']),\n",
        "        'median_X': np.median(data_to_analyse['accelerometer_X']),\n",
        "        'median_Y': np.median(data_to_analyse['accelerometer_Y']),\n",
        "        'median_Z': np.median(data_to_analyse['accelerometer_Z']),\n",
        "    }\n",
        "    return features"
      ],
      "metadata": {
        "id": "lywSy3-LFNGj"
      },
      "execution_count": 33,
      "outputs": []
    },
    {
      "cell_type": "code",
      "source": [
        "# Розрахунок ознак\n",
        "feature_list = []\n",
        "for activity in np.unique(all_data['activity']):\n",
        "    activity_data = all_data[all_data['activity'] == activity]\n",
        "    for i in range(0, len(activity_data), 200):\n",
        "        current_data = activity_data[i:i+200]\n",
        "        if current_data.shape[0] != 200:\n",
        "            continue\n",
        "        features = calculate_features(current_data)\n",
        "        features['activity'] = current_data['activity'].iloc[0]\n",
        "        feature_list.append(features)\n",
        "# Створення нового DataFrame з розрахованими ознаками\n",
        "features_df = pd.DataFrame(feature_list)\n",
        "features_df.head()\n",
        "\n",
        "# Відокремлення ознак та міток\n",
        "X = features_df.drop('activity', axis=1)\n",
        "y = features_df['activity']\n",
        "# Розділення даних на тренувальну та тестову вибірки\n",
        "X_train, X_test, y_train, y_test = train_test_split(X, y, test_size=0.2, random_state=42)\n",
        "\n",
        "# Масштабування даних\n",
        "scaler = StandardScaler()\n",
        "X_train_scaled = scaler.fit_transform(X_train)\n",
        "X_test_scaled = scaler.transform(X_test)\n",
        "\n",
        "# Навчання моделі SVM\n",
        "svm_model = SVC()\n",
        "svm_model.fit(X_train_scaled, y_train)\n",
        "# Оцінка моделі SVM\n",
        "svm_pred = svm_model.predict(X_test_scaled)\n",
        "print(\"SVM Classification Report:\")\n",
        "print(classification_report(y_test, svm_pred))\n",
        "\n",
        "# Навчання моделі Випадкового Лісу\n",
        "rf_model = RandomForestClassifier()\n",
        "rf_model.fit(X_train_scaled, y_train)\n",
        "# Оцінка моделі Випадкового Лісу\n",
        "rf_pred = rf_model.predict(X_test_scaled)\n",
        "print(\"Random Forest Classification Report:\")\n",
        "print(classification_report(y_test, rf_pred))"
      ],
      "metadata": {
        "id": "Rzud8L-MFFTe",
        "colab": {
          "base_uri": "https://localhost:8080/"
        },
        "outputId": "70b5ef2f-5ba5-4fed-bacb-173aa0ce3407"
      },
      "execution_count": 34,
      "outputs": [
        {
          "output_type": "stream",
          "name": "stdout",
          "text": [
            "SVM Classification Report:\n",
            "              precision    recall  f1-score   support\n",
            "\n",
            "        idle       1.00      1.00      1.00        39\n",
            "     running       1.00      1.00      1.00        38\n",
            "      stairs       1.00      1.00      1.00         3\n",
            "     walking       1.00      1.00      1.00        28\n",
            "\n",
            "    accuracy                           1.00       108\n",
            "   macro avg       1.00      1.00      1.00       108\n",
            "weighted avg       1.00      1.00      1.00       108\n",
            "\n",
            "Random Forest Classification Report:\n",
            "              precision    recall  f1-score   support\n",
            "\n",
            "        idle       1.00      1.00      1.00        39\n",
            "     running       1.00      1.00      1.00        38\n",
            "      stairs       1.00      1.00      1.00         3\n",
            "     walking       1.00      1.00      1.00        28\n",
            "\n",
            "    accuracy                           1.00       108\n",
            "   macro avg       1.00      1.00      1.00       108\n",
            "weighted avg       1.00      1.00      1.00       108\n",
            "\n"
          ]
        }
      ]
    }
  ]
}